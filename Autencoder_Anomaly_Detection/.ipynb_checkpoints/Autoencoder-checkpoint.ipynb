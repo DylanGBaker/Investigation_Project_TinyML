{
 "cells": [
  {
   "cell_type": "code",
   "execution_count": null,
   "id": "43a21742-57bc-4534-9e24-ddbfb33eb2f7",
   "metadata": {},
   "outputs": [],
   "source": [
    "# Imports for libraries\n",
    "import matplotlib.pyplot as plt\n",
    "import numpy as np\n",
    "import tensorflow as tf\n",
    "\n",
    "from sklearn.metrics import accuracy_score, precision_score, recall_score\n",
    "from sklearn.model_selection import train_test_split\n",
    "\n",
    "from tensorflow.keras.models import Sequential\n",
    "from tensorflow.keras.layers import Conv2D, MaxPooling2D, UpSampling2D\n",
    "\n",
    "import os\n",
    "from os import listdir\n",
    "import cv2"
   ]
  },
  {
   "cell_type": "code",
   "execution_count": null,
   "id": "e4c17c47-d510-4353-83a5-ba25153abea4",
   "metadata": {},
   "outputs": [],
   "source": [
    "print(tf.__version__)\n",
    "print(tf.keras.__version__)"
   ]
  },
  {
   "cell_type": "code",
   "execution_count": null,
   "id": "ade5d8b5-880f-4e64-a9bf-26c709e9af0a",
   "metadata": {},
   "outputs": [],
   "source": [
    "# Check that the GPU support is working correctly. Make sure there is no error and that it does not say no GPUs detected.\n",
    "gpus = tf.config.list_physical_devices(\"GPU\")\n",
    "\n",
    "if gpus:\n",
    "    for gpu in gpus:\n",
    "        print(\"Found a GPU named: \", gpu)\n",
    "else:\n",
    "    print(\"No GPUs found!\")\n",
    "\n",
    "print(\"Num GPUs Available: \", len(tf.config.list_physical_devices('GPU')))"
   ]
  },
  {
   "cell_type": "code",
   "execution_count": null,
   "id": "cbac919b-6b13-4a76-ad2d-f60f82f381a0",
   "metadata": {},
   "outputs": [],
   "source": [
    "SCREW_TRAINING_IMG_PATH = \"train/good/\"\n",
    "screw_training_img_fname_list = []\n",
    "\n",
    "def get_training_img_fname_list(src_path):\n",
    "    img_list = []\n",
    "    \n",
    "    for img_fname in os.listdir(src_path):\n",
    "        if img_fname.endswith(\"png\"):\n",
    "            img_list.append(src_path + img_fname)\n",
    "            \n",
    "    return img_list\n",
    "\n",
    "        \n",
    "screw_training_img_fname_list = get_training_img_fname_list(SCREW_TRAINING_IMG_PATH)\n",
    "print(len(screw_training_img_fname_list))"
   ]
  },
  {
   "cell_type": "code",
   "execution_count": null,
   "id": "3e27f5cc-5e7d-4860-8569-0854d7ea7677",
   "metadata": {},
   "outputs": [],
   "source": [
    "fig = plt.figure(figsize=(10, 7))\n",
    "first_ten_images = screw_training_img_fname_list[:10]\n",
    "fig, axes = plt.subplots(2, 5, figsize=(15,5))\n",
    "axes = axes.ravel()\n",
    "\n",
    "for i, image_file in enumerate(first_ten_images):\n",
    "    \n",
    "    img_data = cv2.imread(image_file)\n",
    "    img_rgb = cv2.cvtColor(img_data, cv2.COLOR_BGR2RGB)\n",
    "    \n",
    "    axes[i].imshow(img_rgb)\n",
    "    axes[i].set_title(image_file)\n",
    "    axes[i].axis(\"off\")\n",
    "    \n",
    "plt.show()"
   ]
  },
  {
   "cell_type": "code",
   "execution_count": null,
   "id": "6e85e105-02f2-46d5-970c-9f6e0db623fb",
   "metadata": {},
   "outputs": [],
   "source": [
    "#Load the testing images:\n",
    "\n",
    "TEST_IMGS_MAIN_FOLDER = 'test/'\n",
    "test_images_fname_list = []\n",
    "\n",
    "#Provide the main folder holding the training images:\n",
    "def load_test_imgs_in_subfolders(main_folder_path):\n",
    "    img_list = []\n",
    "\n",
    "    for subfolder in os.listdir(main_folder_path):\n",
    "        subfolder_path = os.path.join(main_folder_path, subfolder)\n",
    "\n",
    "        if os.path.isdir(subfolder_path):\n",
    "            for img in os.listdir(subfolder_path):\n",
    "                file_path = os.path.join(subfolder_path, img)\n",
    "                if img.endswith('png'):\n",
    "                    file_path = file_path.replace('\\\\', '/')\n",
    "                    img_list.append(file_path)\n",
    "\n",
    "    return img_list\n",
    "\n",
    "\n",
    "test_images_fname_list = load_test_imgs_in_subfolders(TEST_IMGS_MAIN_FOLDER)\n",
    "test_images_fname_list = np.array(test_images_fname_list)\n",
    "print"
   ]
  },
  {
   "cell_type": "code",
   "execution_count": null,
   "id": "d1eb1212-e412-42ac-a087-d8177e1e252c",
   "metadata": {},
   "outputs": [],
   "source": [
    "fig = plt.figure(figsize=(10, 7))\n",
    "first_ten_images = test_images_fname_list[:10]\n",
    "fig, axes = plt.subplots(2, 5, figsize=(15,5))\n",
    "axes = axes.ravel()\n",
    "\n",
    "for i, image_file in enumerate(first_ten_images):\n",
    "    \n",
    "    img_data = cv2.imread(image_file)\n",
    "    img_rgb = cv2.cvtColor(img_data, cv2.COLOR_BGR2RGB)\n",
    "    \n",
    "    axes[i].imshow(img_rgb)\n",
    "    axes[i].set_title(image_file)\n",
    "    axes[i].axis(\"off\")\n",
    "    \n",
    "plt.show()"
   ]
  },
  {
   "cell_type": "code",
   "execution_count": null,
   "id": "02d1368c-b0ca-415a-a0a7-4b28a51b0545",
   "metadata": {},
   "outputs": [],
   "source": [
    "img_data = cv2.imread(test_images_fname_list[68])\n",
    "img_rgb = cv2.cvtColor(img_data, cv2.COLOR_BGR2RGB)\n",
    "\n",
    "\n",
    "plt.imshow(img_rgb)\n",
    "plt.axis('off')\n",
    "plt.savefig('bad_image_for_poster_1024_1024.png')"
   ]
  },
  {
   "cell_type": "code",
   "execution_count": null,
   "id": "4614fde3-71e0-4145-8623-1e03d3dd8c14",
   "metadata": {},
   "outputs": [],
   "source": [
    "img_data = cv2.imread(test_images_fname_list[2])\n",
    "img_rgb = cv2.cvtColor(img_data, cv2.COLOR_BGR2RGB)\n",
    "\n",
    "\n",
    "plt.imshow(img_rgb)\n",
    "plt.axis('off')  # Hide the axis\n",
    "plt.show()"
   ]
  },
  {
   "cell_type": "code",
   "execution_count": null,
   "id": "770beae2",
   "metadata": {},
   "outputs": [],
   "source": [
    "extra_good_cable_images_list = []\n",
    "\n",
    "target_img_size = (32, 32)\n",
    "brightness = 0.5\n",
    "contrast = 2\n",
    "\n",
    "\n",
    "for j in range(224):\n",
    "    image_data = cv2.imread(screw_training_img_fname_list[j])\n",
    "    image_data = cv2.cvtColor(image_data, cv2.COLOR_BGR2HSV)\n",
    "\n",
    "    h, s, v = cv2.split(image_data)\n",
    "    \n",
    "    h = cv2.multiply(h, 1.1)\n",
    "    h = np.clip(h, 0, 255)\n",
    "    \n",
    "    s = cv2.multiply(s, 1.5)\n",
    "    s = np.clip(s, 0, 255)\n",
    "    \n",
    "    image_data = cv2.merge([h, s, v])\n",
    "    image_data = cv2.cvtColor(image_data, cv2.COLOR_HSV2RGB)\n",
    "    image_data = cv2.addWeighted(image_data, contrast, np.zeros(image_data.shape, image_data.dtype), 0, brightness)\n",
    "    image_data = cv2.resize(image_data, target_img_size)\n",
    "\n",
    "    for i in range(10):\n",
    "        extra_good_cable_images_list.append(image_data)\n",
    "\n",
    "extra_good_cable_images_list = np.array(extra_good_cable_images_list)\n",
    "print(len(extra_good_cable_images_list))\n",
    "print(extra_good_cable_images_list.shape)"
   ]
  },
  {
   "cell_type": "code",
   "execution_count": null,
   "id": "7990bf6e",
   "metadata": {
    "scrolled": false
   },
   "outputs": [],
   "source": [
    "plt.imshow(extra_good_cable_images_list[8])"
   ]
  },
  {
   "cell_type": "code",
   "execution_count": null,
   "id": "c456bca1-587a-491e-a8f8-555c0b4a6258",
   "metadata": {},
   "outputs": [],
   "source": [
    "def get_images_pixel_data(img_fname_list):\n",
    "    \n",
    "    img_pixel_data_list = []\n",
    "    target_img_size = (32, 32)\n",
    "    \n",
    "    for img_fname in img_fname_list:\n",
    "        img_pixel_data = cv2.imread(img_fname)\n",
    "        img_pixel_data = cv2.cvtColor(img_pixel_data, cv2.COLOR_BGR2HSV)\n",
    "        \n",
    "        h, s, v = cv2.split(img_pixel_data)\n",
    "    \n",
    "        h = cv2.multiply(h, 1.1)\n",
    "        h = np.clip(h, 0, 255)\n",
    "        \n",
    "        s = cv2.multiply(s, 1.5)\n",
    "        s = np.clip(s, 0, 255)\n",
    "    \n",
    "        img_pixel_data = cv2.merge([h, s, v])\n",
    "        img_pixel_data = cv2.cvtColor(img_pixel_data, cv2.COLOR_HSV2RGB)\n",
    "        img_pixel_data = cv2.addWeighted(img_pixel_data, contrast, np.zeros(img_pixel_data.shape, img_pixel_data.dtype), 0, brightness)\n",
    "        img_pixel_data = cv2.resize(img_pixel_data, target_img_size)\n",
    "        img_pixel_data_list.append(img_pixel_data)\n",
    "        \n",
    "    return np.array(img_pixel_data_list)\n",
    "\n",
    "\n",
    "X_train = np.concatenate((get_images_pixel_data(screw_training_img_fname_list), extra_good_cable_images_list), axis=0)\n",
    "plt.imshow(X_train[0])\n",
    "plt.axis('off')\n",
    "X_train = X_train.astype('float32')/ 255.\n",
    "\n",
    "\n",
    "\n",
    "X_test = get_images_pixel_data(test_images_fname_list)\n",
    "X_test = np.array(X_test)\n",
    "plt.imshow(X_test[68])\n",
    "plt.axis('off')\n",
    "\n",
    "X_test = X_test.astype('float32')/ 255.\n",
    "\n",
    "# Print shape to make sure it is correct\n",
    "print(X_train.shape)\n",
    "print(X_test.shape)\n",
    "\n",
    "validation_set = X_train[150:1300]\n",
    "print(validation_set.shape)"
   ]
  },
  {
   "cell_type": "code",
   "execution_count": null,
   "id": "52061cdd",
   "metadata": {},
   "outputs": [],
   "source": [
    "plt.imshow(X_train[0])"
   ]
  },
  {
   "cell_type": "code",
   "execution_count": null,
   "id": "a0cf9a9a-5ee3-4826-95a3-3973dbf28d40",
   "metadata": {},
   "outputs": [],
   "source": [
    "model = Sequential()\n",
    "\n",
    "# Encoder\n",
    "model.add(Conv2D(32, (3, 3), activation='relu', padding='same', input_shape=(32,32,3))) # Input is a 32x32 RGB Image\n",
    "model.add(MaxPooling2D((2, 2), padding='same'))\n",
    "model.add(Conv2D(16, (3, 3), activation='relu', padding='same'))\n",
    "model.add(MaxPooling2D((2, 2), padding='same'))\n",
    "model.add(Conv2D(8, (3, 3), activation='relu', padding='same'))\n",
    "model.add(MaxPooling2D((2, 2), padding='same'))\n",
    "model.add(Conv2D(2, (3, 3), activation='relu', padding='same'))\n",
    "model.add(MaxPooling2D((2, 2), padding='same'))\n",
    "\n",
    "\n",
    "#Decoder\n",
    "model.add(Conv2D(2, (3, 3), activation='relu', padding='same'))\n",
    "model.add(UpSampling2D((2, 2)))\n",
    "model.add(Conv2D(8, (3, 3), activation='relu', padding='same'))\n",
    "model.add(UpSampling2D((2, 2)))\n",
    "model.add(Conv2D(16, (3, 3), activation='relu', padding='same'))\n",
    "model.add(UpSampling2D((2, 2)))\n",
    "model.add(Conv2D(32, (3, 3), activation='relu', padding='same'))\n",
    "model.add(UpSampling2D((2, 2)))         \n",
    "model.add(Conv2D(3, (3, 3), activation='sigmoid', padding='same'))\n",
    "# Output is the upsampled layer. So the output will also be a 32x32 RGB image"
   ]
  },
  {
   "cell_type": "code",
   "execution_count": null,
   "id": "97f3a7db-60f4-41a0-b8a7-09abb02b9552",
   "metadata": {
    "scrolled": false
   },
   "outputs": [],
   "source": [
    "model.compile(optimizer='adam', loss='mean_squared_error', metrics=['mse'])\n",
    "model.summary()"
   ]
  },
  {
   "cell_type": "code",
   "execution_count": null,
   "id": "4ed412a4",
   "metadata": {},
   "outputs": [],
   "source": [
    "history = model.fit(X_train, X_train,\n",
    "                   epochs=40,\n",
    "                   validation_data=(validation_set, validation_set),\n",
    "                   shuffle=True)"
   ]
  },
  {
   "cell_type": "code",
   "execution_count": null,
   "id": "0373449b",
   "metadata": {},
   "outputs": [],
   "source": [
    "plt.plot(history.history[\"loss\"], label=\"Training Loss\")\n",
    "plt.plot(history.history[\"val_loss\"], label=\"Validation Loss\")\n",
    "plt.legend()"
   ]
  },
  {
   "cell_type": "code",
   "execution_count": null,
   "id": "afb2111b-2ce2-46c8-abcf-d342b6f7aafc",
   "metadata": {
    "scrolled": false
   },
   "outputs": [],
   "source": [
    "reconstructions = model.predict(X_train)\n",
    "train_losses = tf.keras.losses.mae(reconstructions, X_train)"
   ]
  },
  {
   "cell_type": "code",
   "execution_count": null,
   "id": "521a8ba7",
   "metadata": {
    "scrolled": false
   },
   "outputs": [],
   "source": [
    "plt.imshow(X_train[0])"
   ]
  },
  {
   "cell_type": "code",
   "execution_count": null,
   "id": "60a48947",
   "metadata": {},
   "outputs": [],
   "source": [
    "reconstructed_image = reconstructions[0]\n",
    "plt.imshow(reconstructed_image)\n",
    "plt.axis('off')"
   ]
  },
  {
   "cell_type": "code",
   "execution_count": null,
   "id": "d17303dd-63f7-43ad-b5fb-2ebcc30e3f4f",
   "metadata": {},
   "outputs": [],
   "source": [
    "# Flatten the output losses to make calculating stuff easier.\n",
    "train_losses = tf.reshape(train_losses, [-1])\n",
    "train_losses.shape"
   ]
  },
  {
   "cell_type": "code",
   "execution_count": null,
   "id": "cb439991-5f13-42a3-b364-eedff9ce9f9d",
   "metadata": {
    "scrolled": false
   },
   "outputs": [],
   "source": [
    "mean_loss = np.mean(train_losses)\n",
    "std_deviation_loss = np.std(train_losses)\n",
    "print(\"Mean Loss: \", mean_loss)\n",
    "print(\"Standard Deviation Loss: \", std_deviation_loss)\n",
    "print(train_losses)"
   ]
  },
  {
   "cell_type": "code",
   "execution_count": null,
   "id": "df6c964c-d0f5-4bb6-91c2-8183034f6234",
   "metadata": {},
   "outputs": [],
   "source": [
    "threshold = mean_loss\n",
    "print(\"Threshold: \", threshold)"
   ]
  },
  {
   "cell_type": "code",
   "execution_count": null,
   "id": "2d042d46",
   "metadata": {},
   "outputs": [],
   "source": [
    "plt.imshow(X_test[68])"
   ]
  },
  {
   "cell_type": "code",
   "execution_count": null,
   "id": "0d4f526b",
   "metadata": {},
   "outputs": [],
   "source": [
    "test_bad_image = X_test[68:69]\n",
    "pred = model.predict(test_bad_image)\n",
    "los = tf.keras.losses.mae(pred, test_bad_image)\n",
    "men_los = np.mean(los)\n",
    "std_men_los = np.std(los)\n",
    "print(men_los)\n",
    "print(std_men_los)\n",
    "print(pred.shape)\n",
    "\n",
    "plt.imshow(pred[0])\n",
    "plt.axis('off')"
   ]
  },
  {
   "cell_type": "code",
   "execution_count": null,
   "id": "636c2a5f",
   "metadata": {
    "scrolled": true
   },
   "outputs": [],
   "source": [
    "# Now I am going to do it on the whole test data\n",
    "print(X_test.shape)\n",
    "output_pred = model.predict(X_test)\n",
    "print(\"Test Data Output Reconstructions: \", output_pred.shape)\n",
    "\n",
    "output_losses = tf.keras.losses.mae(output_pred, X_test)\n",
    "print(\"Test Data Output Losses: \", output_losses.shape)\n",
    "\n",
    "# Flattening images to make calculations easier.\n",
    "output_losses = tf.reshape(output_losses, (150, -1))\n",
    "print(\"Reshaped Output Losses: \", output_losses.shape)\n",
    "\n",
    "print(np.mean(output_losses[0]))"
   ]
  },
  {
   "cell_type": "code",
   "execution_count": null,
   "id": "1843f379",
   "metadata": {
    "scrolled": true
   },
   "outputs": [],
   "source": [
    "#Now I need to loop through the losses and output 1 for a good image and 0 for a defect image. \n",
    "#If the mean reconstruction loss for an image is greater than the threshold then it is a defective screw.\n",
    "output_values = []\n",
    "\n",
    "for image_loss in output_losses:\n",
    "    mean_loss = np.mean(image_loss)\n",
    "    \n",
    "    if mean_loss > threshold:\n",
    "        output_values.append(0)\n",
    "    else:\n",
    "        output_values.append(1)\n",
    "\n",
    "actual_values = []\n",
    "\n",
    "for i in range (len(X_test)):\n",
    "    if 59 < i < 118: # This is the range of images where the good test cables lie.\n",
    "        actual_values.append(1)\n",
    "    else:\n",
    "        actual_values.append(0)\n",
    "\n",
    "print(np.shape(actual_values))\n",
    "print(actual_values) \n",
    "print(output_values)"
   ]
  },
  {
   "cell_type": "code",
   "execution_count": null,
   "id": "c9feb1ec",
   "metadata": {
    "scrolled": false
   },
   "outputs": [],
   "source": [
    "#Now we just compare the lists to get the accuracy:\n",
    "output_values = np.array(output_values)\n",
    "actual_values = np.array(actual_values)\n",
    "\n",
    "count = 0\n",
    "\n",
    "for i in range(150):\n",
    "    if output_values[i] == actual_values[i]:\n",
    "        count = count + 1\n",
    "        \n",
    "acc = (count / 150) * 100\n",
    "\n",
    "print(\"Autoencoder Accuracy: \", acc)\n",
    "    \n",
    "    "
   ]
  },
  {
   "cell_type": "code",
   "execution_count": null,
   "id": "e5f988b4",
   "metadata": {},
   "outputs": [],
   "source": [
    "# model.save(\"cable_autoencoder.keras\")"
   ]
  },
  {
   "cell_type": "code",
   "execution_count": null,
   "id": "474dacc6",
   "metadata": {},
   "outputs": [],
   "source": [
    "# converter = tf.lite.TFLiteConverter.from_keras_model(model)\n",
    "# tflite_model = converter.convert()"
   ]
  },
  {
   "cell_type": "code",
   "execution_count": null,
   "id": "886fccbf",
   "metadata": {},
   "outputs": [],
   "source": [
    "# with open('tflite_cable_autoencoder.tflite', 'wb') as f:\n",
    "#     f.write(tflite_model)"
   ]
  }
 ],
 "metadata": {
  "kernelspec": {
   "display_name": "Python 3 (ipykernel)",
   "language": "python",
   "name": "python3"
  },
  "language_info": {
   "codemirror_mode": {
    "name": "ipython",
    "version": 3
   },
   "file_extension": ".py",
   "mimetype": "text/x-python",
   "name": "python",
   "nbconvert_exporter": "python",
   "pygments_lexer": "ipython3",
   "version": "3.9.19"
  },
  "varInspector": {
   "cols": {
    "lenName": 16,
    "lenType": 16,
    "lenVar": 40
   },
   "kernels_config": {
    "python": {
     "delete_cmd_postfix": "",
     "delete_cmd_prefix": "del ",
     "library": "var_list.py",
     "varRefreshCmd": "print(var_dic_list())"
    },
    "r": {
     "delete_cmd_postfix": ") ",
     "delete_cmd_prefix": "rm(",
     "library": "var_list.r",
     "varRefreshCmd": "cat(var_dic_list()) "
    }
   },
   "types_to_exclude": [
    "module",
    "function",
    "builtin_function_or_method",
    "instance",
    "_Feature"
   ],
   "window_display": false
  }
 },
 "nbformat": 4,
 "nbformat_minor": 5
}
